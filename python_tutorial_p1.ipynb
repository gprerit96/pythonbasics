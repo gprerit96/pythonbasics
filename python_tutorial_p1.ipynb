{
 "cells": [
  {
   "cell_type": "markdown",
   "metadata": {},
   "source": [
    "# Introduction to Python"
   ]
  },
  {
   "cell_type": "markdown",
   "metadata": {},
   "source": [
    "## Python Installation\n",
    "\n",
    "If you already have a Python distribution installed, you can still use it for this class. However, you will need to install some packages using `pip` or `conda`, and it is your responsibility to make sure your code runs in the environment specified above. If you are not familiar with `pip` or `conda`, you should install Anaconda."
   ]
  },
  {
   "cell_type": "markdown",
   "metadata": {},
   "source": [
    "![Anaconda](assets\\anaconda.png)"
   ]
  },
  {
   "cell_type": "markdown",
   "metadata": {},
   "source": [
    "In this class, you need a Python 3.10 distribution. The best way to get it is to install [Anaconda](https://www.anaconda.com/products/individual). Anaconda is a Python distribution that comes with a lot of useful packages for scientific computing. It also comes with a package manager called `conda` that makes it easy to install, uninstall, and update packages.\n",
    "\n",
    "During the installation, you will be asked whether you want to add Anaconda to your `PATH` environment variable. \n",
    "\n",
    "> A PATH variable is an operating system construct. It is a list of directories where the operating system will look for executable files when you type a command in the terminal. For example, when you type `python` in the terminal, the operating system will look for an executable file called `python` in the directories listed in the PATH variable. If it finds it, it will run it. If it doesn't, it will give you an error."
   ]
  },
  {
   "cell_type": "markdown",
   "metadata": {},
   "source": [
    "![Anaconda PATH](assets\\path.png)"
   ]
  },
  {
   "cell_type": "markdown",
   "metadata": {},
   "source": [
    "If you are not sure, you should say yes. If you say no, you will need to activate the Anaconda environment every time you want to use it. If you are not sure what this means, you might say yes (for convenience) or ask for help.\n",
    "\n",
    "The other question you will be asked is whether you want to register Anaconda as your default Python. If you say yes, Anaconda will add its Python distribution to the PATH variable. This would allow you to run Python from the command line while also allowing you to use other programs like VS Code to run Python. It is recommended that you say yes."
   ]
  },
  {
   "cell_type": "markdown",
   "metadata": {},
   "source": [
    "After installation, you should be able to run Python from the command line. Open a terminal and type `python`. You should see something like this:\n",
    "\n",
    "```\n",
    "Python 3.10.9 | packaged by Anaconda, Inc. | (main, Mar  1 2023, 18:18:15) [MSC v.1916 64 bit (AMD64)] on win32\n",
    "Type \"help\", \"copyright\", \"credits\" or \"license\" for more information.\n",
    ">>> \n",
    "```"
   ]
  },
  {
   "cell_type": "markdown",
   "metadata": {},
   "source": [
    "Then, run `conda -V` to check the version of `conda`. You should see something like this:\n",
    "\n",
    "```\n",
    "conda 23.3.1\n",
    "```"
   ]
  },
  {
   "cell_type": "markdown",
   "metadata": {},
   "source": [
    "## VSCode 101\n",
    "(You may skip this section if you are already familiar with VSCode.)"
   ]
  },
  {
   "cell_type": "markdown",
   "metadata": {},
   "source": [
    "Once you have installed Anaconda, you can use any text editor to write Python code. However, it is recommended that you use [VSCode](https://code.visualstudio.com/) for this class. \n",
    "\n",
    "![VSCode](assets\\vscode.png)"
   ]
  },
  {
   "cell_type": "markdown",
   "metadata": {},
   "source": [
    "To install VSCode, go to the [VSCode website](https://code.visualstudio.com/) and download the installer for your operating system. Then, run the installer and follow the instructions.\n",
    "\n",
    "Once you have installed VSCode, you can open it and start using it. However, you will need to install some extensions to make it work with Python. To do this, click on the Extensions icon on the left side of the window. Then, search for the `Python` extension and install it."
   ]
  },
  {
   "cell_type": "markdown",
   "metadata": {},
   "source": [
    "![VSCode Extensions](assets\\extension.png)\n",
    "\n",
    "There are also other extensions that you might find useful. For example, you might want to install the `Code Runner` extension to run your code directly from VSCode. "
   ]
  },
  {
   "cell_type": "markdown",
   "metadata": {},
   "source": [
    "## Python Basics\n"
   ]
  },
  {
   "cell_type": "markdown",
   "metadata": {},
   "source": [
    "### Hello World\n",
    "\n",
    "Let's start with a simple example. Open VSCode and create a new file called `hello.py`. Then, type the following code in the file:"
   ]
  },
  {
   "cell_type": "code",
   "execution_count": 1,
   "metadata": {},
   "outputs": [
    {
     "name": "stdout",
     "output_type": "stream",
     "text": [
      "Hello World!\n"
     ]
    }
   ],
   "source": [
    "print(\"Hello World!\")"
   ]
  },
  {
   "cell_type": "markdown",
   "metadata": {},
   "source": [
    "### Strings\n",
    "\n",
    "In Python, strings are sequences of characters enclosed in single or double quotes. It may also be enclosed in triple quotes. For example, the following are all valid strings:"
   ]
  },
  {
   "cell_type": "code",
   "execution_count": 4,
   "metadata": {},
   "outputs": [
    {
     "name": "stdout",
     "output_type": "stream",
     "text": [
      "Hello World!\n",
      "Hello World!\n",
      "Hello World!\n"
     ]
    }
   ],
   "source": [
    "print(\"Hello World!\")\n",
    "print('Hello World!')\n",
    "print(\"\"\"Hello World!\"\"\")"
   ]
  },
  {
   "cell_type": "markdown",
   "metadata": {},
   "source": [
    "You can also use the `+` operator to concatenate strings. For example:"
   ]
  },
  {
   "cell_type": "code",
   "execution_count": 2,
   "metadata": {},
   "outputs": [
    {
     "data": {
      "text/plain": [
       "'Hello World!'"
      ]
     },
     "execution_count": 2,
     "metadata": {},
     "output_type": "execute_result"
    }
   ],
   "source": [
    "\"Hello\" + \" \" + \"World!\""
   ]
  },
  {
   "cell_type": "markdown",
   "metadata": {},
   "source": [
    "You can also use the `*` operator to repeat a string. For example:"
   ]
  },
  {
   "cell_type": "code",
   "execution_count": 7,
   "metadata": {},
   "outputs": [
    {
     "data": {
      "text/plain": [
       "'Hello Hello Hello '"
      ]
     },
     "execution_count": 7,
     "metadata": {},
     "output_type": "execute_result"
    }
   ],
   "source": [
    "\"Hello \" * 3"
   ]
  },
  {
   "cell_type": "markdown",
   "metadata": {},
   "source": [
    "`f-strings` are a special type of string that allows you to insert variables into a string. It is commonly used to format strings and will be used extensively in this tutorial later on and in the rest of the course. For example:"
   ]
  },
  {
   "cell_type": "code",
   "execution_count": 9,
   "metadata": {},
   "outputs": [
    {
     "name": "stdout",
     "output_type": "stream",
     "text": [
      "Hello John!\n"
     ]
    }
   ],
   "source": [
    "name = \"John\"\n",
    "print(f\"Hello {name}!\")"
   ]
  },
  {
   "cell_type": "markdown",
   "metadata": {},
   "source": [
    "### Numbers"
   ]
  },
  {
   "cell_type": "markdown",
   "metadata": {},
   "source": [
    "In Python, there are two types of numbers: integers and floats. Integers are whole numbers, while floats are numbers with a decimal point. For example, the following are all valid numbers:"
   ]
  },
  {
   "cell_type": "code",
   "execution_count": 11,
   "metadata": {},
   "outputs": [
    {
     "name": "stdout",
     "output_type": "stream",
     "text": [
      "1 is an integer: <class 'int'>\n",
      "1.0 is a float: <class 'float'>\n",
      "1.00000 is also a float: <class 'float'>\n"
     ]
    }
   ],
   "source": [
    "print(f\"1 is an integer: {type(1)}\")\n",
    "print(f\"1.0 is a float: {type(1.0)}\")\n",
    "print(f\"1.00000 is also a float: {type(1.00)}\")"
   ]
  },
  {
   "cell_type": "markdown",
   "metadata": {},
   "source": [
    "When concatenating strings and numbers, you need to convert the numbers to strings first. For example:"
   ]
  },
  {
   "cell_type": "code",
   "execution_count": 12,
   "metadata": {},
   "outputs": [
    {
     "name": "stdout",
     "output_type": "stream",
     "text": [
      "The number is 1\n"
     ]
    }
   ],
   "source": [
    "print(\"The number is \" + str(1))"
   ]
  },
  {
   "cell_type": "markdown",
   "metadata": {},
   "source": [
    "Or, you can use f-strings:"
   ]
  },
  {
   "cell_type": "code",
   "execution_count": 13,
   "metadata": {},
   "outputs": [
    {
     "name": "stdout",
     "output_type": "stream",
     "text": [
      "The number is 1\n"
     ]
    }
   ],
   "source": [
    "print(f\"The number is {1}\")"
   ]
  },
  {
   "cell_type": "markdown",
   "metadata": {},
   "source": [
    "You can also specify the number of decimal places when printing floats:"
   ]
  },
  {
   "cell_type": "code",
   "execution_count": 14,
   "metadata": {},
   "outputs": [
    {
     "name": "stdout",
     "output_type": "stream",
     "text": [
      "The number is 3.73\n"
     ]
    }
   ],
   "source": [
    "print(f\"The number is {3.73373373:.2f}\")"
   ]
  },
  {
   "cell_type": "markdown",
   "metadata": {},
   "source": [
    "### Booleans\n",
    "\n",
    "Booleans are either `True` or `False`. They are used to represent the truth value of a statement. For example:"
   ]
  },
  {
   "cell_type": "code",
   "execution_count": 15,
   "metadata": {},
   "outputs": [
    {
     "name": "stdout",
     "output_type": "stream",
     "text": [
      "True is a boolean: <class 'bool'>\n",
      "False is also a boolean: <class 'bool'>\n"
     ]
    }
   ],
   "source": [
    "print(f\"True is a boolean: {type(True)}\")\n",
    "print(f\"False is also a boolean: {type(False)}\")"
   ]
  },
  {
   "cell_type": "markdown",
   "metadata": {},
   "source": [
    "You can also use the `and`, `or`, and `not` operators to combine booleans. For example:"
   ]
  },
  {
   "cell_type": "code",
   "execution_count": 16,
   "metadata": {},
   "outputs": [
    {
     "name": "stdout",
     "output_type": "stream",
     "text": [
      "False\n",
      "True\n",
      "False\n"
     ]
    }
   ],
   "source": [
    "print(True and False)\n",
    "print(True or False)\n",
    "print(not True)"
   ]
  },
  {
   "cell_type": "markdown",
   "metadata": {},
   "source": [
    "### Lists\n",
    "\n",
    "Lists are ordered collections of items. They are enclosed in square brackets and separated by commas. For example:"
   ]
  },
  {
   "cell_type": "code",
   "execution_count": 18,
   "metadata": {},
   "outputs": [
    {
     "name": "stdout",
     "output_type": "stream",
     "text": [
      "[1, 2, 3]\n",
      "['a', 'b', 'c']\n",
      "[1, 'a', True]\n"
     ]
    }
   ],
   "source": [
    "print([1, 2, 3])\n",
    "print([\"a\", \"b\", \"c\"])\n",
    "print([1, \"a\", True])"
   ]
  },
  {
   "cell_type": "markdown",
   "metadata": {},
   "source": [
    "You can access items in a list using their index. For example:"
   ]
  },
  {
   "cell_type": "code",
   "execution_count": 26,
   "metadata": {},
   "outputs": [
    {
     "name": "stdout",
     "output_type": "stream",
     "text": [
      "1\n",
      "2\n",
      "3\n",
      "7\n",
      "6\n",
      "[1, 2]\n",
      "[2, 3, 4, 5, 6, 7]\n",
      "[1, 2]\n"
     ]
    }
   ],
   "source": [
    "l = [1, 2, 3, 4, 5, 6, 7]\n",
    "print(l[0])\n",
    "print(l[1])\n",
    "print(l[2])\n",
    "print(l[-1])\n",
    "print(l[-2])\n",
    "print(l[0:2])\n",
    "print(l[1:])\n",
    "print(l[:2])"
   ]
  },
  {
   "cell_type": "markdown",
   "metadata": {},
   "source": [
    "Lists are mutable, which means that you can change their values. For example:"
   ]
  },
  {
   "cell_type": "code",
   "execution_count": 21,
   "metadata": {},
   "outputs": [
    {
     "name": "stdout",
     "output_type": "stream",
     "text": [
      "[4, 2, 3]\n"
     ]
    }
   ],
   "source": [
    "l = [1, 2, 3]\n",
    "l[0] = 4\n",
    "print(l)"
   ]
  },
  {
   "cell_type": "markdown",
   "metadata": {},
   "source": [
    "There are also many functions that you can use to manipulate lists. For example:"
   ]
  },
  {
   "cell_type": "code",
   "execution_count": 22,
   "metadata": {},
   "outputs": [
    {
     "name": "stdout",
     "output_type": "stream",
     "text": [
      "[1, 2, 3, 4]\n",
      "[0, 1, 2, 3, 4]\n",
      "[0, 1, 2, 3]\n",
      "[0, 1, 3]\n"
     ]
    }
   ],
   "source": [
    "l = [1, 2, 3]\n",
    "l.append(4)\n",
    "print(l)\n",
    "l.insert(0, 0)\n",
    "print(l)\n",
    "l.pop()\n",
    "print(l)\n",
    "l.remove(2)\n",
    "print(l)"
   ]
  },
  {
   "cell_type": "markdown",
   "metadata": {},
   "source": [
    "Here are some other useful functions:"
   ]
  },
  {
   "cell_type": "code",
   "execution_count": 23,
   "metadata": {},
   "outputs": [
    {
     "name": "stdout",
     "output_type": "stream",
     "text": [
      "9\n",
      "1\n",
      "9\n",
      "45\n",
      "[1, 2, 3, 4, 5, 6, 7, 8, 9]\n",
      "[9, 8, 7, 6, 5, 4, 3, 2, 1]\n"
     ]
    }
   ],
   "source": [
    "l = [5, 2, 7, 1, 3, 9, 4, 6, 8]\n",
    "print(len(l))\n",
    "print(min(l))\n",
    "print(max(l))\n",
    "print(sum(l))\n",
    "print(sorted(l))\n",
    "print(sorted(l, reverse=True))"
   ]
  },
  {
   "cell_type": "markdown",
   "metadata": {},
   "source": [
    "Note that the `sorted` function returns a new list, while the `sort` method sorts the list in-place and returns `None`. For example:"
   ]
  },
  {
   "cell_type": "code",
   "execution_count": 24,
   "metadata": {},
   "outputs": [
    {
     "name": "stdout",
     "output_type": "stream",
     "text": [
      "None\n",
      "[1, 2, 3, 4, 5, 6, 7, 8, 9]\n"
     ]
    }
   ],
   "source": [
    "l = [5, 2, 7, 1, 3, 9, 4, 6, 8]\n",
    "print(l.sort())\n",
    "print(l)"
   ]
  },
  {
   "cell_type": "markdown",
   "metadata": {},
   "source": [
    "You can also use the `+` operator to concatenate lists. For example:"
   ]
  },
  {
   "cell_type": "code",
   "execution_count": 27,
   "metadata": {},
   "outputs": [
    {
     "data": {
      "text/plain": [
       "[1, 2, 3, 4, 5, 6]"
      ]
     },
     "execution_count": 27,
     "metadata": {},
     "output_type": "execute_result"
    }
   ],
   "source": [
    "[1, 2, 3] + [4, 5, 6]"
   ]
  },
  {
   "cell_type": "markdown",
   "metadata": {},
   "source": [
    "### Tuples\n",
    "\n",
    "Tuples are ordered collections of items. They are enclosed in parentheses and separated by commas. They are similar to lists, except that they are immutable. For example:"
   ]
  },
  {
   "cell_type": "code",
   "execution_count": 28,
   "metadata": {},
   "outputs": [
    {
     "name": "stdout",
     "output_type": "stream",
     "text": [
      "(1, 2, 3)\n",
      "('a', 'b', 'c')\n",
      "(1, 'a', True)\n"
     ]
    }
   ],
   "source": [
    "print(     (1, 2, 3)     )\n",
    "print(     (\"a\", \"b\", \"c\")     )\n",
    "print(     (1, \"a\", True)     )"
   ]
  },
  {
   "cell_type": "code",
   "execution_count": 31,
   "metadata": {},
   "outputs": [
    {
     "name": "stdout",
     "output_type": "stream",
     "text": [
      "1\n"
     ]
    },
    {
     "ename": "TypeError",
     "evalue": "'tuple' object does not support item assignment",
     "output_type": "error",
     "traceback": [
      "\u001b[1;31m---------------------------------------------------------------------------\u001b[0m",
      "\u001b[1;31mTypeError\u001b[0m                                 Traceback (most recent call last)",
      "Cell \u001b[1;32mIn[31], line 3\u001b[0m\n\u001b[0;32m      1\u001b[0m t \u001b[39m=\u001b[39m (\u001b[39m1\u001b[39m, \u001b[39m2\u001b[39m, \u001b[39m3\u001b[39m)\n\u001b[0;32m      2\u001b[0m \u001b[39mprint\u001b[39m(t[\u001b[39m0\u001b[39m])\n\u001b[1;32m----> 3\u001b[0m t[\u001b[39m0\u001b[39m] \u001b[39m=\u001b[39m \u001b[39m4\u001b[39m\n",
      "\u001b[1;31mTypeError\u001b[0m: 'tuple' object does not support item assignment"
     ]
    }
   ],
   "source": [
    "t = (1, 2, 3)\n",
    "print(t[0])\n",
    "t[0] = 4"
   ]
  },
  {
   "cell_type": "markdown",
   "metadata": {},
   "source": [
    "### Sets\n",
    "\n",
    "Sets are unordered collections of unique items. They are enclosed in curly braces and separated by commas. For example:"
   ]
  },
  {
   "cell_type": "code",
   "execution_count": 33,
   "metadata": {},
   "outputs": [
    {
     "name": "stdout",
     "output_type": "stream",
     "text": [
      "{1, 2, 3}\n",
      "{'a', 'b', 'c'}\n",
      "{False, 1, 'a'}\n"
     ]
    }
   ],
   "source": [
    "print(    {1, 2, 3, 3, 3, 3, 3, 3, 3}    )\n",
    "print(    {\"a\", \"b\", \"c\", \"a\"}    )\n",
    "print(    {1, \"a\", True, False, True}    )"
   ]
  },
  {
   "cell_type": "markdown",
   "metadata": {},
   "source": [
    "You can also use the `in` operator to check if an item is in a set. This can also be used with lists and tuples. For example:"
   ]
  },
  {
   "cell_type": "code",
   "execution_count": 34,
   "metadata": {},
   "outputs": [
    {
     "name": "stdout",
     "output_type": "stream",
     "text": [
      "True\n",
      "False\n"
     ]
    }
   ],
   "source": [
    "s = {1, 2, 3}\n",
    "print(1 in s)\n",
    "print(4 in s)"
   ]
  },
  {
   "cell_type": "markdown",
   "metadata": {},
   "source": [
    "To add items to a set, you can use the `add` method or the `update` method. For example:"
   ]
  },
  {
   "cell_type": "code",
   "execution_count": 35,
   "metadata": {},
   "outputs": [
    {
     "name": "stdout",
     "output_type": "stream",
     "text": [
      "{1, 2, 3, 4}\n",
      "{1, 2, 3, 4, 5, 6, 7}\n"
     ]
    }
   ],
   "source": [
    "s = {1, 2, 3}\n",
    "s.add(4)\n",
    "print(s)\n",
    "s.update([5, 6, 7])\n",
    "print(s)"
   ]
  },
  {
   "cell_type": "markdown",
   "metadata": {},
   "source": [
    "### Dictionaries\n",
    "\n",
    "Dictionaries are unordered collections of key-value pairs. They are enclosed in curly braces and separated by commas. An similar data structure in other languages is called a map, such as hash maps in Java. For example:\n"
   ]
  },
  {
   "cell_type": "code",
   "execution_count": 36,
   "metadata": {},
   "outputs": [
    {
     "name": "stdout",
     "output_type": "stream",
     "text": [
      "{'a': 1, 'b': 2, 'c': 3}\n",
      "{1: 'a', 2: 'b', 3: 'c'}\n",
      "{1: True, 'a': 'a'}\n"
     ]
    }
   ],
   "source": [
    "print(    {\"a\": 1, \"b\": 2, \"c\": 3}    )\n",
    "print(    {1: \"a\", 2: \"b\", 3: \"c\"}    )\n",
    "print(    {1: 1, \"a\": \"a\", True: True}    )"
   ]
  },
  {
   "cell_type": "markdown",
   "metadata": {},
   "source": [
    "Dictionaries are mutable, which means that you can change their values. For example:"
   ]
  },
  {
   "cell_type": "code",
   "execution_count": 37,
   "metadata": {},
   "outputs": [
    {
     "name": "stdout",
     "output_type": "stream",
     "text": [
      "{'a': 4, 'b': 2, 'c': 3}\n"
     ]
    }
   ],
   "source": [
    "d = {\"a\": 1, \"b\": 2, \"c\": 3}\n",
    "d[\"a\"] = 4\n",
    "print(d)"
   ]
  },
  {
   "cell_type": "markdown",
   "metadata": {},
   "source": [
    "You can also use the `in` operator to check if a key is in a dictionary or a value is in a dictionary's values. For example:"
   ]
  },
  {
   "cell_type": "code",
   "execution_count": 40,
   "metadata": {},
   "outputs": [
    {
     "name": "stdout",
     "output_type": "stream",
     "text": [
      "True\n",
      "True\n",
      "False\n"
     ]
    }
   ],
   "source": [
    "d = {\"a\": 1, \"b\": 2, \"c\": 3}\n",
    "print(\"a\" in d)\n",
    "print(\"c\" in d.keys())\n",
    "print(1 in d)"
   ]
  },
  {
   "cell_type": "markdown",
   "metadata": {},
   "source": [
    "To check if a value is in a dictionary, you can use the `values` method. For example:"
   ]
  },
  {
   "cell_type": "code",
   "execution_count": 39,
   "metadata": {},
   "outputs": [
    {
     "name": "stdout",
     "output_type": "stream",
     "text": [
      "True\n",
      "False\n"
     ]
    }
   ],
   "source": [
    "d = {\"a\": 1, \"b\": 2, \"c\": 3}\n",
    "print(1 in d.values())\n",
    "print(\"a\" in d.values())"
   ]
  },
  {
   "cell_type": "markdown",
   "metadata": {},
   "source": [
    "To add items to a dictionary, you can use the `update` method. You can also use the way similar to accessing items in a list. For example:"
   ]
  },
  {
   "cell_type": "code",
   "execution_count": 41,
   "metadata": {},
   "outputs": [
    {
     "name": "stdout",
     "output_type": "stream",
     "text": [
      "{'a': 1, 'b': 2, 'c': 3, 'd': 4}\n",
      "{'a': 1, 'b': 2, 'c': 3, 'd': 4, 'e': 5}\n"
     ]
    }
   ],
   "source": [
    "d = {\"a\": 1, \"b\": 2, \"c\": 3}\n",
    "d.update({\"d\": 4})\n",
    "print(d)\n",
    "d[\"e\"] = 5\n",
    "print(d)"
   ]
  },
  {
   "cell_type": "markdown",
   "metadata": {},
   "source": [
    "### Conditionals\n",
    "\n",
    "You can use the `if`, `elif`, and `else` keywords to write conditional statements. For example:\n"
   ]
  },
  {
   "cell_type": "code",
   "execution_count": 42,
   "metadata": {},
   "outputs": [
    {
     "name": "stdout",
     "output_type": "stream",
     "text": [
      "1 is less than 2\n"
     ]
    }
   ],
   "source": [
    "if 1 < 2:\n",
    "    print(\"1 is less than 2\")\n",
    "elif 1 > 2:\n",
    "    print(\"1 is greater than 2\")\n",
    "else:\n",
    "    print(\"1 is equal to 2\")"
   ]
  },
  {
   "cell_type": "markdown",
   "metadata": {},
   "source": [
    "You can also use the `and`, `or`, and `not` operators to combine conditions. For example:"
   ]
  },
  {
   "cell_type": "code",
   "execution_count": 44,
   "metadata": {},
   "outputs": [
    {
     "name": "stdout",
     "output_type": "stream",
     "text": [
      "1 is less than 2 and 2 is less than 3\n",
      "1 is less than 2 or 1 is greater than 2\n",
      "1 is not greater than 2\n"
     ]
    }
   ],
   "source": [
    "if 1 < 2 and 2 < 3:\n",
    "    print(\"1 is less than 2 and 2 is less than 3\")\n",
    "if 1 < 2 or 1 > 2:\n",
    "    print(\"1 is less than 2 or 1 is greater than 2\")\n",
    "if not 1 > 2:\n",
    "    print(\"1 is not greater than 2\")\n",
    "if 1 == 2:\n",
    "    print(\"1 is equal to 2\")"
   ]
  },
  {
   "cell_type": "markdown",
   "metadata": {},
   "source": [
    "Python also supports the ternary operator. For example:"
   ]
  },
  {
   "cell_type": "code",
   "execution_count": 45,
   "metadata": {},
   "outputs": [
    {
     "name": "stdout",
     "output_type": "stream",
     "text": [
      "1 is not equal to 2\n"
     ]
    }
   ],
   "source": [
    "print(\"1 is not equal to 2\") if 1 != 2 else print(\"1 is equal to 2\")"
   ]
  },
  {
   "cell_type": "markdown",
   "metadata": {},
   "source": [
    "### Loops\n",
    "\n",
    "You can use the `for` and `while` keywords to write loops. For example:"
   ]
  },
  {
   "cell_type": "code",
   "execution_count": 46,
   "metadata": {},
   "outputs": [
    {
     "name": "stdout",
     "output_type": "stream",
     "text": [
      "For loop iteration 0\n",
      "While loop iteration 0\n",
      "While loop iteration 1\n",
      "While loop iteration 2\n",
      "For loop iteration 1\n",
      "While loop iteration 1\n",
      "While loop iteration 2\n",
      "For loop iteration 2\n",
      "While loop iteration 2\n",
      "For loop iteration 3\n",
      "For loop iteration 4\n"
     ]
    }
   ],
   "source": [
    "for i in range(5):\n",
    "    print(f\"For loop iteration {i}\")\n",
    "    while i < 3:\n",
    "        print(f\"While loop iteration {i}\")\n",
    "        i += 1"
   ]
  },
  {
   "cell_type": "markdown",
   "metadata": {},
   "source": [
    "You can also use the `break` and `continue` keywords to control the flow of loops. For example:"
   ]
  },
  {
   "cell_type": "code",
   "execution_count": 47,
   "metadata": {},
   "outputs": [
    {
     "name": "stdout",
     "output_type": "stream",
     "text": [
      "For loop iteration 0\n",
      "While loop iteration 1\n",
      "While loop iteration 3\n",
      "For loop iteration 1\n",
      "While loop iteration 3\n"
     ]
    }
   ],
   "source": [
    "for i in range(5):\n",
    "    if i == 2:\n",
    "        break\n",
    "    print(f\"For loop iteration {i}\")\n",
    "    while i < 3:\n",
    "        i += 1\n",
    "        if i == 2:\n",
    "            continue\n",
    "        print(f\"While loop iteration {i}\")"
   ]
  },
  {
   "cell_type": "markdown",
   "metadata": {},
   "source": [
    "### Functions\n",
    "\n",
    "You can use the `def` keyword to define functions. For example:"
   ]
  },
  {
   "cell_type": "code",
   "execution_count": 49,
   "metadata": {},
   "outputs": [
    {
     "name": "stdout",
     "output_type": "stream",
     "text": [
      "3\n"
     ]
    }
   ],
   "source": [
    "def add(a, b):\n",
    "    return a + b\n",
    "\n",
    "print(add(1, 2))"
   ]
  },
  {
   "cell_type": "markdown",
   "metadata": {},
   "source": [
    "You can also use the `lambda` keyword to define anonymous functions. For example:"
   ]
  },
  {
   "cell_type": "code",
   "execution_count": 50,
   "metadata": {},
   "outputs": [
    {
     "name": "stdout",
     "output_type": "stream",
     "text": [
      "3\n"
     ]
    }
   ],
   "source": [
    "add = lambda a, b: a + b\n",
    "print(add(1, 2))"
   ]
  },
  {
   "cell_type": "markdown",
   "metadata": {},
   "source": [
    "In this class, we will be using Type Hints to specify the types of function parameters and return values. For example:"
   ]
  },
  {
   "cell_type": "code",
   "execution_count": 54,
   "metadata": {},
   "outputs": [
    {
     "data": {
      "text/plain": [
       "10"
      ]
     },
     "execution_count": 54,
     "metadata": {},
     "output_type": "execute_result"
    }
   ],
   "source": [
    "from typing import Tuple\n",
    "def mystery_function(a: int, b: int, c: Tuple[int, int]) -> int:\n",
    "    return a + b + c[0] + c[1]\n",
    "\n",
    "mystery_function(1, 2, (3, 4))"
   ]
  },
  {
   "cell_type": "markdown",
   "metadata": {},
   "source": [
    "Type hints are not required nor enforced by Python but are meant help you understand the code better. For example, the function signature above means that the function `mystery_function` takes two integers `a` and `b` and a tuple of two integers as input and returns an integer."
   ]
  },
  {
   "cell_type": "markdown",
   "metadata": {},
   "source": [
    "We also use docstrings and doctests to document functions. For example:"
   ]
  },
  {
   "cell_type": "code",
   "execution_count": 55,
   "metadata": {},
   "outputs": [],
   "source": [
    "def mystery_function(a: int, b: int, c: Tuple[int, int]) -> int:\n",
    "    \"\"\"\n",
    "    This is a docstring. It is used to describe the function.\n",
    "\n",
    "    Below are some examples of doctests.\n",
    "    >>> mystery_function(1, 2, (3, 4))\n",
    "    10\n",
    "\n",
    "    >>> mystery_function(1, 2, (3, 4, 5)) # This works but does not follow the type hints.\n",
    "    10\n",
    "\n",
    "    >>> mystery_function(1, 2) # This would cause an error.\n",
    "    Traceback (most recent call last):\n",
    "        ...\n",
    "    TypeError: mystery_function() missing 1 required positional argument: 'c'\n",
    "    \"\"\"\n",
    "\n",
    "    return a + b + c[0] + c[1]"
   ]
  },
  {
   "cell_type": "markdown",
   "metadata": {},
   "source": [
    "A docstring is a string that is the first statement in a function. It is used to describe the function. Inside the docstring, you can write doctests. Doctests are examples of how to use the function. They are written in the form of a Python interactive session. In our class, doctests are used as your local tests (public tests). They are part of the test cases that we use to grade your assignments. You can run the doctests by running the following command in the terminal:\n",
    "\n",
    "```bash\n",
    "python -m doctest -v file.py\n",
    "```\n",
    "\n",
    "In most cases, we have programmed the doctests for you in a way that you can test your implementation by running the Python file directly, and you will see whether you passed the doctests or not. For example:\n",
    "\n",
    "```bash\n",
    "python file.py\n",
    "```\n",
    "\n",
    "```\n",
    "All tests passed!\n",
    "```"
   ]
  },
  {
   "cell_type": "markdown",
   "metadata": {},
   "source": [
    "### Classes\n",
    "\n",
    "Python can be used as an object-oriented programming language. You can use the `class` keyword to define classes. For example:"
   ]
  },
  {
   "cell_type": "code",
   "execution_count": 57,
   "metadata": {},
   "outputs": [],
   "source": [
    "class CS373:\n",
    "    def __init__(self, name):\n",
    "        self.name = name\n",
    "\n",
    "    def get_name(self):\n",
    "        return self.name\n",
    "\n",
    "    def set_name(self, name):\n",
    "        self.name = name"
   ]
  },
  {
   "cell_type": "markdown",
   "metadata": {},
   "source": [
    "Here, `__init__` is the constructor of the class. It is called when you create an instance of the class. For example:"
   ]
  },
  {
   "cell_type": "code",
   "execution_count": 58,
   "metadata": {},
   "outputs": [
    {
     "name": "stdout",
     "output_type": "stream",
     "text": [
      "CS373\n",
      "CS37300\n"
     ]
    }
   ],
   "source": [
    "cs373 = CS373(\"CS373\")\n",
    "print(cs373.get_name())\n",
    "cs373.set_name(\"CS37300\")\n",
    "print(cs373.get_name())"
   ]
  },
  {
   "cell_type": "markdown",
   "metadata": {},
   "source": [
    "While Python does have access modifiers, similar to `private` in Java, we will not be using them in this class. This means that you can access any attribute or method of a class directly without the need for getters and setters. For example:"
   ]
  },
  {
   "cell_type": "code",
   "execution_count": 59,
   "metadata": {},
   "outputs": [
    {
     "name": "stdout",
     "output_type": "stream",
     "text": [
      "CS373\n",
      "CS37300\n"
     ]
    }
   ],
   "source": [
    "cs373 = CS373(\"CS373\")\n",
    "print(cs373.name)\n",
    "cs373.name = \"CS37300\"\n",
    "print(cs373.name)"
   ]
  },
  {
   "cell_type": "markdown",
   "metadata": {},
   "source": [
    "### Modules\n",
    "\n",
    "You can use the `import` keyword to import modules. For example:"
   ]
  },
  {
   "cell_type": "code",
   "execution_count": 60,
   "metadata": {},
   "outputs": [
    {
     "name": "stdout",
     "output_type": "stream",
     "text": [
      "2.0\n"
     ]
    }
   ],
   "source": [
    "import math\n",
    "print(math.sqrt(4))"
   ]
  },
  {
   "cell_type": "markdown",
   "metadata": {},
   "source": [
    "You can also use the `from` keyword to import specific functions from a module. For example:"
   ]
  },
  {
   "cell_type": "code",
   "execution_count": 61,
   "metadata": {},
   "outputs": [
    {
     "name": "stdout",
     "output_type": "stream",
     "text": [
      "2.0\n"
     ]
    }
   ],
   "source": [
    "from math import sqrt\n",
    "print(sqrt(4))"
   ]
  },
  {
   "cell_type": "markdown",
   "metadata": {},
   "source": [
    "You can also use the `as` keyword to rename a module. For example:"
   ]
  },
  {
   "cell_type": "code",
   "execution_count": 64,
   "metadata": {},
   "outputs": [
    {
     "name": "stdout",
     "output_type": "stream",
     "text": [
      "2.0\n",
      "3.0\n"
     ]
    }
   ],
   "source": [
    "import math as magic\n",
    "print(magic.sqrt(4))\n",
    "\n",
    "from math import sqrt as magic\n",
    "print(magic(9))"
   ]
  },
  {
   "cell_type": "markdown",
   "metadata": {},
   "source": [
    "### Exceptions\n",
    "\n",
    "Exceptions are similar to errors in Java. You can use the `try`, `except`, and `finally` keywords to handle exceptions. While we do not expect you to use exceptions in your assignments, you should be familiar with them as you will see them in the code that we provide you. For example:"
   ]
  },
  {
   "cell_type": "code",
   "execution_count": 65,
   "metadata": {},
   "outputs": [
    {
     "name": "stdout",
     "output_type": "stream",
     "text": [
      "Cannot divide by zero\n",
      "This will always be printed\n"
     ]
    }
   ],
   "source": [
    "try:\n",
    "    print(1 / 0)\n",
    "except ZeroDivisionError:\n",
    "    print(\"Cannot divide by zero\")\n",
    "finally:\n",
    "    print(\"This will always be printed\")"
   ]
  },
  {
   "cell_type": "markdown",
   "metadata": {},
   "source": [
    "### Truthiness\n",
    "\n",
    "In Python, the following values are considered false:\n",
    "\n",
    "- `None`\n",
    "- `False`\n",
    "- `0`\n",
    "- `0.0`\n",
    "- `0j`\n",
    "- `Decimal(0)`\n",
    "- `Fraction(0, 1)`\n",
    "- `[]` (an empty list)\n",
    "- `{}` (an empty dict)\n",
    "- `()` (an empty tuple)\n",
    "- `''` (an empty str)\n",
    "- `b''` (an empty bytes)\n",
    "- `set()` (an empty set)\n",
    "- an empty range, like `range(0)`\n",
    "- objects for which\n",
    "    - `obj.__bool__()` returns `False`\n",
    "    - `obj.__len__()` returns `0`"
   ]
  },
  {
   "cell_type": "code",
   "execution_count": 66,
   "metadata": {},
   "outputs": [
    {
     "data": {
      "text/plain": [
       "False"
      ]
     },
     "execution_count": 66,
     "metadata": {},
     "output_type": "execute_result"
    }
   ],
   "source": [
    "bool([])"
   ]
  },
  {
   "cell_type": "markdown",
   "metadata": {},
   "source": [
    "All other values are considered true, including some cases such as:\n",
    "\n",
    "- `[0]`\n",
    "- `\"0\"`\n",
    "- `\"False\"`\n",
    "- `()`"
   ]
  },
  {
   "cell_type": "code",
   "execution_count": 67,
   "metadata": {},
   "outputs": [
    {
     "data": {
      "text/plain": [
       "True"
      ]
     },
     "execution_count": 67,
     "metadata": {},
     "output_type": "execute_result"
    }
   ],
   "source": [
    "bool([0])"
   ]
  },
  {
   "cell_type": "markdown",
   "metadata": {},
   "source": [
    "### Type Casting\n",
    "\n",
    "You can use the following functions to cast between types:\n",
    "\n",
    "- `int()`\n",
    "- `float()`\n",
    "- `str()`\n",
    "- `bool()`\n",
    "- `list()`\n",
    "- `tuple()`\n",
    "- `set()`\n",
    "- `dict()`\n",
    "\n",
    "For example:"
   ]
  },
  {
   "cell_type": "code",
   "execution_count": 68,
   "metadata": {},
   "outputs": [
    {
     "name": "stdout",
     "output_type": "stream",
     "text": [
      "1\n",
      "1.0\n",
      "1\n",
      "True\n",
      "[1, 2, 3]\n",
      "(1, 2, 3)\n",
      "{1, 2, 3}\n",
      "{1: 2, 3: 4}\n"
     ]
    }
   ],
   "source": [
    "print(int(\"1\"))\n",
    "print(float(\"1\"))\n",
    "print(str(1))\n",
    "print(bool(1))\n",
    "print(list((1, 2, 3)))\n",
    "print(tuple([1, 2, 3]))\n",
    "print(set([1, 2, 3]))\n",
    "print(dict([(1, 2), (3, 4)]))"
   ]
  }
 ],
 "metadata": {
  "kernelspec": {
   "display_name": "base",
   "language": "python",
   "name": "python3"
  },
  "language_info": {
   "codemirror_mode": {
    "name": "ipython",
    "version": 3
   },
   "file_extension": ".py",
   "mimetype": "text/x-python",
   "name": "python",
   "nbconvert_exporter": "python",
   "pygments_lexer": "ipython3",
   "version": "3.10.9"
  },
  "orig_nbformat": 4
 },
 "nbformat": 4,
 "nbformat_minor": 2
}
